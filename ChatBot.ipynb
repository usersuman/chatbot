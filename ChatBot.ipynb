{
 "cells": [
  {
   "cell_type": "code",
   "execution_count": 10,
   "metadata": {
    "colab": {
     "base_uri": "https://localhost:8080/",
     "height": 85
    },
    "colab_type": "code",
    "id": "hXWCMs4_W4gL",
    "outputId": "fed3f408-ec2e-4278-9d60-4b010692becf"
   },
   "outputs": [
    {
     "name": "stderr",
     "output_type": "stream",
     "text": [
      "[nltk_data] Downloading package wordnet to\n",
      "[nltk_data]     C:\\Users\\SUMAN\\AppData\\Roaming\\nltk_data...\n",
      "[nltk_data]   Package wordnet is already up-to-date!\n",
      "[nltk_data] Downloading package punkt to\n",
      "[nltk_data]     C:\\Users\\SUMAN\\AppData\\Roaming\\nltk_data...\n",
      "[nltk_data]   Package punkt is already up-to-date!\n"
     ]
    }
   ],
   "source": [
    "import re\n",
    "from nltk.stem import WordNetLemmatizer \n",
    "lemmatizer = WordNetLemmatizer() \n",
    "import nltk\n",
    "nltk.download('wordnet')\n",
    "nltk.download('punkt')\n",
    "from sklearn.feature_extraction.text import TfidfVectorizer\n",
    "from sklearn.metrics.pairwise import cosine_similarity\n",
    "import random"
   ]
  },
  {
   "cell_type": "code",
   "execution_count": 4,
   "metadata": {
    "colab": {},
    "colab_type": "code",
    "id": "E88hXdWDDSxP"
   },
   "outputs": [],
   "source": [
    "with open('article.txt',encoding=\"utf8\") as f:\n",
    "  article_text = f.read()"
   ]
  },
  {
   "cell_type": "code",
   "execution_count": 5,
   "metadata": {
    "colab": {},
    "colab_type": "code",
    "id": "wc_FXrcY0lq8"
   },
   "outputs": [],
   "source": [
    "sentences = []\n",
    "text = nltk.sent_tokenize(article_text)\n",
    "def pre_process(text):\n",
    "  for article_text in text:\n",
    "    pattern = r'\\[[^\\]]*\\]'\n",
    "    article_text = re.sub(pattern,' ',article_text)\n",
    "    article_text = re.sub('[^A-z.,\\-0-9\\s]','',article_text)\n",
    "    article_text = re.sub('\\s+',' ',article_text)\n",
    "    sent = article_text.split()\n",
    "    for word in range(len(sent)):\n",
    "        sent[word] = sent[word]#lemmatizer.lemmatize(sent[word])\n",
    "    sent = ' '.join([x for x in sent])\n",
    "    sentences.append(sent)\n",
    "  return sentences\n"
   ]
  },
  {
   "cell_type": "code",
   "execution_count": 6,
   "metadata": {
    "colab": {},
    "colab_type": "code",
    "id": "q85I_BUJfWn3"
   },
   "outputs": [],
   "source": [
    "all_sent = pre_process(text)"
   ]
  },
  {
   "cell_type": "code",
   "execution_count": 7,
   "metadata": {
    "colab": {},
    "colab_type": "code",
    "id": "X0UBF5V4YMwR"
   },
   "outputs": [],
   "source": [
    "def get_response(query):\n",
    "  all_sent.append(query)\n",
    "  \n",
    "  word_vectorizer = TfidfVectorizer(stop_words='english')\n",
    "  all_sentences = word_vectorizer.fit_transform(all_sent)\n",
    "  similar_vector_values = cosine_similarity(all_sentences[-1], all_sentences)\n",
    "  similar_sentence_number = similar_vector_values.argsort()[0][-2]\n",
    "  all_sent.pop(len(all_sent)-1)\n",
    "  matched_vector = similar_vector_values.flatten()\n",
    "  matched_vector.sort()\n",
    "  vector_matched = matched_vector[-2]\n",
    "\n",
    "  if vector_matched == 0:\n",
    "      response =  \"Sorry, I did'nt get you\"\n",
    "      return response\n",
    "  else:\n",
    "      response =  all_sent[similar_sentence_number]\n",
    "      return response\n",
    "\n"
   ]
  },
  {
   "cell_type": "code",
   "execution_count": 8,
   "metadata": {
    "colab": {},
    "colab_type": "code",
    "id": "86tYDmKmZ2RT"
   },
   "outputs": [],
   "source": [
    "def create_bot(): \n",
    "  print('CoronaBot : Hy I am CoronaBot, wanna know anything about Covid 19 ?? Ask Me')\n",
    "  flag = 'True'\n",
    "  greetings = ['hello','hy','good morning','good evening','good afternoon','greetings','greetings of the day']\n",
    "  while flag == 'True':\n",
    "    query = input('User : ')\n",
    "    \n",
    "    query = query.strip().lower()\n",
    "    if query in  ['bye','thanks','thank you']:\n",
    "      flag = 'False'\n",
    "      response = 'Thank You. Hope your all questions are answered satisfactorily'\n",
    "    else:\n",
    "      if query in greetings:\n",
    "        response = random.choice(['Hello, I am CoronaBot','Hy, I am CoronaBot'])\n",
    "      else:\n",
    "        response = get_response(query)\n",
    "    \n",
    "    print('CoronaBot : {}'.format(response))"
   ]
  },
  {
   "cell_type": "code",
   "execution_count": 9,
   "metadata": {
    "colab": {
     "base_uri": "https://localhost:8080/",
     "height": 360
    },
    "colab_type": "code",
    "id": "arh6_syu2ceZ",
    "outputId": "391bdd67-77c0-4810-c5b9-b2e07d7b0be2"
   },
   "outputs": [
    {
     "name": "stdout",
     "output_type": "stream",
     "text": [
      "CoronaBot : Hy I am CoronaBot, wanna know anything about Covid 19 ?? Ask Me\n",
      "User : what is corona virus\n",
      "CoronaBot : COVID-19 is the infectious disease caused by the most recently discovered corona virus.\n",
      "User : how it is invented\n",
      "CoronaBot : Sorry, I did'nt get you\n",
      "User : how it is spreading\n",
      "CoronaBot : However, there are now places around the world cities or areas where the disease is spreading.\n",
      "User : thank you\n",
      "CoronaBot : Thank You. Hope your all questions are answered satisfactorily\n"
     ]
    }
   ],
   "source": [
    "create_bot()"
   ]
  },
  {
   "cell_type": "code",
   "execution_count": 0,
   "metadata": {
    "colab": {},
    "colab_type": "code",
    "id": "q8zmWZJE2eYp"
   },
   "outputs": [],
   "source": []
  }
 ],
 "metadata": {
  "colab": {
   "name": "Untitled26.ipynb",
   "provenance": []
  },
  "kernelspec": {
   "display_name": "Python 3 (ipykernel)",
   "language": "python",
   "name": "python3"
  },
  "language_info": {
   "codemirror_mode": {
    "name": "ipython",
    "version": 3
   },
   "file_extension": ".py",
   "mimetype": "text/x-python",
   "name": "python",
   "nbconvert_exporter": "python",
   "pygments_lexer": "ipython3",
   "version": "3.10.8"
  }
 },
 "nbformat": 4,
 "nbformat_minor": 1
}
